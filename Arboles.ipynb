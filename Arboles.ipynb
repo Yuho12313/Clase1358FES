{
  "nbformat": 4,
  "nbformat_minor": 0,
  "metadata": {
    "colab": {
      "name": "Arboles.ipynb",
      "provenance": [],
      "authorship_tag": "ABX9TyO9kBS6LNnLxHr85wwwddrM",
      "include_colab_link": true
    },
    "kernelspec": {
      "name": "python3",
      "display_name": "Python 3"
    },
    "language_info": {
      "name": "python"
    }
  },
  "cells": [
    {
      "cell_type": "markdown",
      "metadata": {
        "id": "view-in-github",
        "colab_type": "text"
      },
      "source": [
        "<a href=\"https://colab.research.google.com/github/Yuho12313/Clase1358FES/blob/main/Arboles.ipynb\" target=\"_parent\"><img src=\"https://colab.research.google.com/assets/colab-badge.svg\" alt=\"Open In Colab\"/></a>"
      ]
    },
    {
      "cell_type": "code",
      "metadata": {
        "id": "wlMxXTdTtJbu"
      },
      "source": [
        "\n",
        "class binariNode:\n",
        "  def __init__( self, value, left=None , rigth=None ):\n",
        "    self._data = value\n",
        "    self._left = left\n",
        "    self._rigth = rigth\n",
        "    \n"
      ],
      "execution_count": 1,
      "outputs": []
    },
    {
      "cell_type": "code",
      "metadata": {
        "id": "oHtLAhQxueb7"
      },
      "source": [
        "\n",
        "class ternaryNode:\n",
        "  def __init__( self, value, left=None , rigth=None , center=None ):\n",
        "    self._data = value\n",
        "    self._left = left\n",
        "    self._rigth = rigth\n",
        "    self._center = center\n",
        "\n",
        "    "
      ],
      "execution_count": 2,
      "outputs": []
    },
    {
      "cell_type": "code",
      "metadata": {
        "id": "qJtKTEiN38nC"
      },
      "source": [
        "class tenNode:\n",
        "  def __init__( self, value, uno=None, dos=None, tres=None, cuatro=None, cinco=None, sies=None, siete=None, ocho=None, nueve=None, diez=None )\n",
        "  "
      ],
      "execution_count": null,
      "outputs": []
    },
    {
      "cell_type": "code",
      "metadata": {
        "colab": {
          "base_uri": "https://localhost:8080/"
        },
        "id": "c5Qpa3Bav9ya",
        "outputId": "8cb505f0-3c1e-423c-9656-ee304083b6f8"
      },
      "source": [
        "root = binariNode(\"R\", binariNode(\"C\"), binariNode(\"H\"))\n",
        "print( root._left._data )\n"
      ],
      "execution_count": 5,
      "outputs": [
        {
          "output_type": "stream",
          "name": "stdout",
          "text": [
            "C\n"
          ]
        }
      ]
    },
    {
      "cell_type": "code",
      "metadata": {
        "colab": {
          "base_uri": "https://localhost:8080/"
        },
        "id": "ZV6SONtLwXC0",
        "outputId": "ce0f0f79-1dde-43e5-fd7e-a69ffb457d9e"
      },
      "source": [
        "root2 = ternaryNode(4, ternaryNode(3, ternaryNode(5, ternaryNode(2) ),\n",
        "        ternaryNode(2), ternaryNode(5) ), ternaryNode(5), None)\n",
        "\n",
        "\n",
        "print(root2._left._left._left._data)\n",
        "print(\"\")\n",
        "print(root2._left._left._data)\n",
        "print(root2._left._center._data)\n",
        "print(root2._left._rigth._data)\n",
        "\n",
        "aux = root2\n",
        "while aux._left != None:\n",
        "  aux = aux._left\n",
        "print(aux._data)\n",
        "print(\"\")\n"
      ],
      "execution_count": 11,
      "outputs": [
        {
          "output_type": "stream",
          "name": "stdout",
          "text": [
            "2\n",
            "\n",
            "5\n",
            "5\n",
            "2\n",
            "2\n"
          ]
        }
      ]
    },
    {
      "cell_type": "code",
      "metadata": {
        "id": "eiSsun9F4_tY"
      },
      "source": [
        "root = binariNode(\"Santi\", None, binariNode(\"Jesús\", binariNode(\"Pedro\", None, binariNode(\"Pedro\")), None))\n",
        "\n"
      ],
      "execution_count": 12,
      "outputs": []
    }
  ]
}