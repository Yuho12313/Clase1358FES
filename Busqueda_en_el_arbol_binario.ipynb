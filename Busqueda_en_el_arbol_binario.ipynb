{
  "nbformat": 4,
  "nbformat_minor": 0,
  "metadata": {
    "colab": {
      "name": "Busqueda_en_el_arbol_binario.ipynb",
      "provenance": [],
      "collapsed_sections": [],
      "authorship_tag": "ABX9TyMQHQnqgCkBP9qDQcyKufXt",
      "include_colab_link": true
    },
    "kernelspec": {
      "name": "python3",
      "display_name": "Python 3"
    },
    "language_info": {
      "name": "python"
    }
  },
  "cells": [
    {
      "cell_type": "markdown",
      "metadata": {
        "id": "view-in-github",
        "colab_type": "text"
      },
      "source": [
        "<a href=\"https://colab.research.google.com/github/Yuho12313/Clase1358FES/blob/main/Busqueda_en_el_arbol_binario.ipynb\" target=\"_parent\"><img src=\"https://colab.research.google.com/assets/colab-badge.svg\" alt=\"Open In Colab\"/></a>"
      ]
    },
    {
      "cell_type": "code",
      "metadata": {
        "id": "8Mf6EmefHePJ"
      },
      "source": [
        "class BinaryNode:\n",
        "  def __init__(self, value , left=None , rigth= None):\n",
        "    self.data = value\n",
        "    self.left = left\n",
        "    self.rigth = rigth\n",
        "\n",
        "class BinarySearchTree:\n",
        "  def __init__(self ):\n",
        "    self.root = None\n",
        "\n",
        "  def insert (self , value):\n",
        "    if self.root == None:\n",
        "      self.root = BinaryNode(value)\n",
        "    else:\n",
        "      self.__insert_nodo(self.root , value)\n",
        "  def __insert_nodo(self,nodo ,value):\n",
        "    if nodo.data == value:\n",
        "      pass\n",
        "    elif value < nodo.data:\n",
        "      if nodo.left == None:\n",
        "        nodo.left = BinaryNode( value )\n",
        "      else:\n",
        "        self.__insert_nodo(nodo.left, value)\n",
        "    else: #ir a la derecha\n",
        "      if nodo.rigth == None:\n",
        "        nodo.rigth = BinaryNode(value )\n",
        "      else:\n",
        "        self.__insert_nodo(nodo.rigth, value)\n",
        "\n",
        "  def transversal(self , formato = \"posorden\"):\n",
        "    if formato == \"posorden\":\n",
        "      self.recorrido_pos(self.root)\n",
        "    elif formato ==\"preorden\":\n",
        "      self.recorrido_pre(self.root)\n",
        "    else: #inorden\n",
        "      self.recorrido_in(self.root)\n",
        "    print()\n",
        "     \n",
        "  def recorrido_pos (self, nodo ):\n",
        "    if nodo != None:\n",
        "      self.recorrido_pos(nodo.left)\n",
        "      self.recorrido_pos(nodo.rigth)\n",
        "      print(str(nodo.data), end=\",\")\n",
        "  def recorrido_pre(self , nodo):\n",
        "    if nodo != None:\n",
        "      print(str(nodo.data) , end=\",\")\n",
        "      self.recorrido_pre(nodo.left)\n",
        "      self.recorrido_pre(nodo.rigth)       \n",
        "  def recorrido_in(self , nodo):\n",
        "    if nodo != None :\n",
        "      self.recorrido_in(nodo.left)\n",
        "      print(str(nodo.data), end =\",\")\n",
        "      self.recorrido_in(nodo.rigth)\n",
        "\n",
        "  def search(self, value):\n",
        "    if self.root == None:\n",
        "      print(\"el arbol está vacío\")\n",
        "      return None\n",
        "    else:\n",
        "      return self.__search(self.root , value)\n",
        "\n",
        "  def __search(self , nodo , value):\n",
        "    if nodo == None:\n",
        "      print(\"el dato no existe en el arbol\")\n",
        "      return None\n",
        "    elif nodo.data == value:\n",
        "      print(\"encontrado\")\n",
        "      return nodo\n",
        "    elif value < nodo.data:\n",
        "      return self.__search(nodo.left , value)\n",
        "    else:\n",
        "      return self.__search(nodo.rigth , value)\n",
        "\n",
        "  def remove(self, value):\n",
        "\n"
      ],
      "execution_count": null,
      "outputs": []
    },
    {
      "cell_type": "code",
      "metadata": {
        "colab": {
          "base_uri": "https://localhost:8080/"
        },
        "id": "5Y66Zjzh0xyH",
        "outputId": "eec87ade-5ee7-4052-d660-b8acfcc88778"
      },
      "source": [
        "arbl = BinarySearchTree()\n",
        "arbl.insert(60)\n",
        "arbl.insert(30)\n",
        "arbl.insert(15)\n",
        "arbl.insert(40)\n",
        "\n",
        "arbl.transversal(\"postorden\")\n",
        "arbl.transversal(\"preorden\")\n",
        "arbl.transversal(\"inorden\")\n",
        "\n",
        "arbl.search(110)\n",
        "print(arbl.search(30).data)\n",
        "res = arbl.search(15)\n",
        "print( res.data)\n"
      ],
      "execution_count": null,
      "outputs": [
        {
          "output_type": "stream",
          "name": "stdout",
          "text": [
            "15,30,40,60,\n",
            "60,30,15,40,\n",
            "15,30,40,60,\n",
            "el dato no existe en el arbol\n",
            "encontrado\n",
            "30\n",
            "encontrado\n",
            "15\n"
          ]
        }
      ]
    },
    {
      "cell_type": "code",
      "metadata": {
        "colab": {
          "base_uri": "https://localhost:8080/"
        },
        "id": "rvpKVIrX1u7A",
        "outputId": "ba98a671-f594-41ca-f8d4-583ef218fbd2"
      },
      "source": [
        "arb = BinarySearchTree()\n",
        "\n",
        "arb.insert(45)\n",
        "arb.insert(23)\n",
        "arb.insert(2)\n",
        "arb.insert(28)\n",
        "arb.insert(65)\n",
        "arb.insert(52)\n",
        "arb.insert(96)\n",
        "arb.insert(7)\n",
        "arb.insert(48)\n",
        "\n",
        "arb.transversal(\"preorden\")\n",
        "arb.transversal(\"posorden\")\n",
        "arb.transversal(\"inorden\")\n"
      ],
      "execution_count": null,
      "outputs": [
        {
          "output_type": "stream",
          "name": "stdout",
          "text": [
            "45,23,2,7,28,65,52,48,96,\n",
            "7,2,28,23,48,52,96,65,45,\n",
            "2,7,23,28,45,48,52,65,96,\n"
          ]
        }
      ]
    }
  ]
}