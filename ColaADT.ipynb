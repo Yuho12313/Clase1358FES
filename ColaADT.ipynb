{
  "nbformat": 4,
  "nbformat_minor": 0,
  "metadata": {
    "colab": {
      "name": "ColaADT.ipynb",
      "provenance": [],
      "authorship_tag": "ABX9TyOt3ufjbmwo3xluS4BG9Oi/",
      "include_colab_link": true
    },
    "kernelspec": {
      "name": "python3",
      "display_name": "Python 3"
    },
    "language_info": {
      "name": "python"
    }
  },
  "cells": [
    {
      "cell_type": "markdown",
      "metadata": {
        "id": "view-in-github",
        "colab_type": "text"
      },
      "source": [
        "<a href=\"https://colab.research.google.com/github/Yuho12313/Clase1358FES/blob/main/ColaADT.ipynb\" target=\"_parent\"><img src=\"https://colab.research.google.com/assets/colab-badge.svg\" alt=\"Open In Colab\"/></a>"
      ]
    },
    {
      "cell_type": "code",
      "metadata": {
        "id": "6L3BXACYqsSE"
      },
      "source": [
        "\n",
        "class Queue():\n",
        "  def __init__(self):\n",
        "    self.__data=[]\n",
        "\n",
        "  def is_empty( self ):\n",
        "    return len( self.__data )==0\n",
        "\n",
        "  def length( self ):\n",
        "    return len( self.__data )\n",
        "\n",
        "  def enqueue( self, elem ):\n",
        "    self.__data.append( elem )\n",
        "\n",
        "  def dequeue( self ):\n",
        "    if not self.is_Empty():\n",
        "      return self.__data.pop(0)\n",
        "  \n",
        "  def to_string( self ):\n",
        "    for elem in self.__data:\n",
        "      print(f\" | {elem} | <----\", end=\" \" )\n",
        "\n",
        "\n"
      ],
      "execution_count": null,
      "outputs": []
    },
    {
      "cell_type": "code",
      "metadata": {
        "id": "5eFdk86jvnaE"
      },
      "source": [
        "cola = Queue\n",
        "\n",
        "print(\"Esta vacio\", cola.is_empty() )\n",
        "print(\"# de elementos\", cola.length() )\n",
        "cola.enqueue(10)\n",
        "cola.to_string()\n",
        "print(\"\")\n",
        "cola.enqueue(20)\n",
        "cola.enqueue(30)\n",
        "cola.enqueue(40)\n",
        "sig = cola.dequeue()\n",
        "print(\"\\n se atiende a: \", sig )\n",
        "cola.to_string()"
      ],
      "execution_count": null,
      "outputs": []
    }
  ]
}