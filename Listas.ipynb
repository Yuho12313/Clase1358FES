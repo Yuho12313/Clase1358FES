{
  "nbformat": 4,
  "nbformat_minor": 0,
  "metadata": {
    "colab": {
      "name": "Listas.ipynb",
      "provenance": [],
      "authorship_tag": "ABX9TyOw2brcvlFTsNlcObVWlRaP",
      "include_colab_link": true
    },
    "kernelspec": {
      "name": "python3",
      "display_name": "Python 3"
    },
    "language_info": {
      "name": "python"
    }
  },
  "cells": [
    {
      "cell_type": "markdown",
      "metadata": {
        "id": "view-in-github",
        "colab_type": "text"
      },
      "source": [
        "<a href=\"https://colab.research.google.com/github/Yuho12313/Clase1358FES/blob/main/Listas.ipynb\" target=\"_parent\"><img src=\"https://colab.research.google.com/assets/colab-badge.svg\" alt=\"Open In Colab\"/></a>"
      ]
    },
    {
      "cell_type": "code",
      "metadata": {
        "id": "RAYjja2TIh6j"
      },
      "source": [
        "\n",
        "class Nodo:\n",
        "\n",
        "  def __init__(self , value, siguiente=None):\n",
        "    self.data = value\n",
        "    self.next = siguiente\n",
        "\n",
        "\n"
      ],
      "execution_count": 1,
      "outputs": []
    },
    {
      "cell_type": "code",
      "metadata": {
        "colab": {
          "base_uri": "https://localhost:8080/"
        },
        "id": "yyDv4Se4Ti1C",
        "outputId": "73d5bff9-411d-4e59-86c6-3efe531e0215"
      },
      "source": [
        "\n",
        "head = Nodo(30)\n",
        "\n",
        "#print(head.data)\n",
        "#print(head.next)\n",
        "\n",
        "head2 = Nodo(20)\n",
        "head2.next = Nodo(15)\n",
        "head2.next.next = Nodo(10)\n",
        "head2.next.next.next = Nodo(5)\n",
        "\n",
        "print(head2.data)\n",
        "print(head2.next.data)\n",
        "print(head2.next.next.data)\n",
        "print(head2.next.next.next.data)\n",
        "print(head2.next.next.next.next)\n",
        "\n",
        "head3 = Nodo(30, Nodo(25, Nodo(20, Nodo(15, Nodo(10, Nodo(5))))))\n",
        "print(head3.next.next.next)"
      ],
      "execution_count": 19,
      "outputs": [
        {
          "output_type": "stream",
          "name": "stdout",
          "text": [
            "20\n",
            "15\n",
            "10\n",
            "5\n",
            "None\n",
            "<__main__.Nodo object at 0x7fd4a871cf50>\n"
          ]
        }
      ]
    }
  ]
}