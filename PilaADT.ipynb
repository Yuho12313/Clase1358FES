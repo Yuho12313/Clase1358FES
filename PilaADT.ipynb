{
  "nbformat": 4,
  "nbformat_minor": 0,
  "metadata": {
    "colab": {
      "name": "PilaADT.ipynb",
      "provenance": [],
      "authorship_tag": "ABX9TyMmpNWPQ+cBbyqrF5dXjIdC",
      "include_colab_link": true
    },
    "kernelspec": {
      "name": "python3",
      "display_name": "Python 3"
    },
    "language_info": {
      "name": "python"
    }
  },
  "cells": [
    {
      "cell_type": "markdown",
      "metadata": {
        "id": "view-in-github",
        "colab_type": "text"
      },
      "source": [
        "<a href=\"https://colab.research.google.com/github/Yuho12313/Clase1358FES/blob/main/PilaADT.ipynb\" target=\"_parent\"><img src=\"https://colab.research.google.com/assets/colab-badge.svg\" alt=\"Open In Colab\"/></a>"
      ]
    },
    {
      "cell_type": "code",
      "metadata": {
        "id": "NDow9t7MST7I"
      },
      "source": [
        "\n",
        "class StackADT:\n",
        "  def __init__( self ):\n",
        "    self.data = list()\n",
        "    self.tope = 0\n",
        "\n",
        "  def is_empty( self ):\n",
        "    return self.tope == 0\n",
        "\n",
        "  def length ( self ):\n",
        "    return self.tope -1 \n",
        "\n",
        "  def pop( self ):\n",
        "    if not self.is_empty():\n",
        "      return self.data.pop()\n",
        "    self.tope -= 1\n",
        "\n",
        "\n",
        "  def peek ( self ):\n",
        "    return self.data[ self.tope -1 ]  #o tambien self.data[ -1 ]\n",
        "\n",
        "  def push ( self, value ):\n",
        "    self.data.append (value)\n",
        "    self.tope += 1 \n",
        "\n",
        "  def to_string ( self ):\n",
        "    print(\"Estado de la pila es: \")\n",
        "    for elem in self.data[: : -1]:\n",
        "      print(f\"|  {elem}  |\")\n",
        "    \n",
        "\n"
      ],
      "execution_count": 21,
      "outputs": []
    },
    {
      "cell_type": "code",
      "metadata": {
        "colab": {
          "base_uri": "https://localhost:8080/"
        },
        "id": "0KbAgyk2Z0Vm",
        "outputId": "7fabf8cb-3f92-4c94-ff80-d0c860f16309"
      },
      "source": [
        "\n",
        "pila = StackADT()\n",
        "\n",
        "pila.push( 10 )\n",
        "pila.push( 20 )\n",
        "pila.push( 30 )\n",
        "pila.to_string()\n",
        "\n",
        "print( \"llamada a peek \", pila.peek() )\n",
        "\n",
        "print(\"llamada a pop \", pila.pop())\n",
        "pila.to_string()\n",
        "\n",
        "pila.push( 25 )\n",
        "pila.push( 26 )\n",
        "\n",
        "print(\"Meter 25 y 26 en la pila\")\n",
        "pila.to_string()\n",
        "\n",
        "print(f\"llamamos lenth\", pila.length())\n"
      ],
      "execution_count": null,
      "outputs": [
        {
          "output_type": "stream",
          "name": "stdout",
          "text": [
            "Estado de la pila es: \n",
            "|  30  |\n",
            "|  20  |\n",
            "|  10  |\n",
            "llamada a peek  30\n",
            "llamada a pop  30\n",
            "Estado de la pila es: \n",
            "|  20  |\n",
            "|  10  |\n",
            "Meter 25 y 26 en la pila\n",
            "Estado de la pila es: \n",
            "|  26  |\n",
            "|  25  |\n",
            "|  20  |\n",
            "|  10  |\n",
            "llamamos lenth 4\n"
          ]
        }
      ]
    },
    {
      "cell_type": "code",
      "metadata": {
        "id": "f--2FzWdpx51"
      },
      "source": [
        "class Array2D():\n",
        "  def __init__(self, ren, col):\n",
        "    self.__columnas = col\n",
        "    self.__renglones = ren\n",
        "    self.__data = [[ 0 for i in range(col)]for i in range (ren)]\n",
        "\n",
        "  def to_string(self):\n",
        "    for i in range(self.__renglones):\n",
        "      print(self.__data[i])\n",
        "\n",
        "  def clear(self, dato):\n",
        "    for i in range (self.__renglones):\n",
        "      for x in range(self.__columnas):\n",
        "        self.__data[i][x] = dato\n",
        "\n",
        "  def get_row_size(self):\n",
        "    return self.__renglones\n",
        "\n",
        "  def get_col_size(self):\n",
        "    return self.__columnas\n",
        "\n",
        "  def set_item(self,ren,col,dato):\n",
        "    self.__data[ren][col] = dato\n",
        "\n",
        "  def get_item(self,ren,col):\n",
        "    return self.__data[ren][col]"
      ],
      "execution_count": 28,
      "outputs": []
    },
    {
      "cell_type": "code",
      "metadata": {
        "id": "fPgubFTEqUyn"
      },
      "source": [
        "\n",
        "class laberintoADT:\n",
        " \n",
        "  def __init__( self, archivo):\n",
        "    self.laberinto = None\n",
        "    self.salida = None\n",
        "    self.entrada = None\n",
        "    self.camino = StackADT()\n",
        "    self.inicio (archivo)\n",
        "    self.laberinto.to_string()\n",
        "\n",
        "  def inicio( self, archivo ):\n",
        "    entrada = open( archivo , 'rt')\n",
        "    self.laberinto = Array2D(int(entrada.readline().strip()), int(entrada.readline().strip()))\n",
        "    self.laberinto.clear( \"P\" )\n",
        "    lineas = entrada.readline()\n",
        "\n",
        "    for r in range( len(lineas)):\n",
        "            lineaBis = lineas[r].strip().split(',')\n",
        "            for c in  range( len(lineaBis )) :\n",
        "                self.laberinto.set_item(r,c,lineaBis[c]) \n",
        "\n",
        "\n",
        "    for r in range( self.laberinto.get_row_size()):\n",
        "      for c in range( self.laberinto.get_col_size()):\n",
        "        if self.laberinto.get_item( r, c) == \"E\":\n",
        "          self.camino.push( (r,c) )"
      ],
      "execution_count": 31,
      "outputs": []
    },
    {
      "cell_type": "code",
      "metadata": {
        "id": "ySReck7Ht53-"
      },
      "source": [
        "\n",
        "Juego = laberintoADT( \"entrada.txt\" )\n",
        "\n",
        "\n",
        "\n"
      ],
      "execution_count": null,
      "outputs": []
    }
  ]
}