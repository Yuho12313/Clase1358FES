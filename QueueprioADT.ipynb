{
  "nbformat": 4,
  "nbformat_minor": 0,
  "metadata": {
    "colab": {
      "name": "QueueprioADT.ipynb",
      "provenance": [],
      "authorship_tag": "ABX9TyOJ5gbUTAXNPTido73gBynj",
      "include_colab_link": true
    },
    "kernelspec": {
      "name": "python3",
      "display_name": "Python 3"
    },
    "language_info": {
      "name": "python"
    }
  },
  "cells": [
    {
      "cell_type": "markdown",
      "metadata": {
        "id": "view-in-github",
        "colab_type": "text"
      },
      "source": [
        "<a href=\"https://colab.research.google.com/github/Yuho12313/Clase1358FES/blob/main/QueueprioADT.ipynb\" target=\"_parent\"><img src=\"https://colab.research.google.com/assets/colab-badge.svg\" alt=\"Open In Colab\"/></a>"
      ]
    },
    {
      "cell_type": "code",
      "metadata": {
        "id": "jc5XmqS-zOS6"
      },
      "source": [
        "\n",
        "class Colaprioridadacotada:\n",
        "  def __init__( self, niveles ):\n",
        "    self.__data = [ QueueADT() for x in range(niveles)]\n",
        "    self.__length = 0\n",
        "\n",
        "  def is_empty( self ):\n",
        "    return self.__length == 0\n",
        "\n",
        "  def length( self ):\n",
        "    return self.__length\n",
        "\n",
        "  def enqueue( self, prioridad, elem ):\n",
        "    if prioridad >= 0 and prioridad < len(self.__data):\n",
        "      self.__data[ prioridad ].enqueue( elem )\n",
        "      self.__length += 1\n",
        "\n",
        "  def to_string( self ):\n",
        "    for p in range( len(self.__data) ):\n",
        "      print(f\"Priotidad {p} =--= \", end=\"\")\n",
        "      self.__data[p].to_string()\n",
        "\n",
        "  def dequeue( self ):\n",
        "    for nivel in self.__data:\n",
        "      if not nivel.is_empty():\n",
        "        self.__length -= 1\n",
        "        return nivel.dequeue()\n"
      ],
      "execution_count": null,
      "outputs": []
    },
    {
      "cell_type": "code",
      "metadata": {
        "id": "u8kACe0jHUCP"
      },
      "source": [
        "\n",
        "class QueueADT:\n",
        "  def __init__(self):\n",
        "      self.__data = [ ]\n",
        "\n",
        "  def is_empty( self ):\n",
        "      return len( self.__data ) == 0\n",
        "  \n",
        "  def length( self ):\n",
        "      return len( self.__data )\n",
        "\n",
        "  def enqueue( self , elem ):\n",
        "      self.__data.append( elem )\n",
        "\n",
        "  def dequeue( self ):\n",
        "      if not self.is_empty():\n",
        "        return self.__data.pop(0)\n",
        "\n",
        "  def to_string( self ):\n",
        "      for elem in self.__data:\n",
        "        print(f\"|{elem}| <--\", end=\"\")\n",
        "      print(\"\")"
      ],
      "execution_count": null,
      "outputs": []
    },
    {
      "cell_type": "code",
      "metadata": {
        "id": "6VADI6bNHnDg"
      },
      "source": [
        "\n",
        "class Coladeprioridad:\n",
        "  def __init__(self ):\n",
        "    self.__data = []\n",
        "    self.__length = 0\n",
        "\n",
        "  def is_empty( self ):\n",
        "    return self.__length == 0\n",
        "\n",
        "  def length( self ):\n",
        "    return self.__length\n",
        "\n",
        "  def enqueue( self , prioridad, elem ):\n",
        "    existe = False\n",
        "    indice = 0\n",
        "    for index in range(len(self.__data)):\n",
        "      if self.__data[index][\"p\"] == prioridad:\n",
        "        existe = True\n",
        "        indice = index\n",
        "        break\n",
        "    if existe:\n",
        "      self.__data[indice][\"cola\"].enqueue(elem)\n",
        "    else:\n",
        "      self.__data.append( { \"p\":prioridad , \"cola\": QueueADT()})\n",
        "      self.__data[-1][\"cola\"].enqueue(elem)\n",
        "\n",
        "  #def dequeue( self ):\n",
        "\n",
        "  def to_string( self ):\n",
        "    for p in self.__data:\n",
        "      print(p[\"p\"], end=\" =-= \" )\n",
        "      p[\"cola\"].to_string()\n",
        "\n"
      ],
      "execution_count": null,
      "outputs": []
    },
    {
      "cell_type": "code",
      "metadata": {
        "colab": {
          "base_uri": "https://localhost:8080/"
        },
        "id": "bIOmGwb6bLo8",
        "outputId": "a6e397f3-d74e-4be8-cc51-f53baa090519"
      },
      "source": [
        "cp = Coladeprioridad()\n",
        "\n",
        "cp.enqueue( 2,\"A\" )\n",
        "cp.enqueue( 4,\"Z\" )\n",
        "cp.enqueue( 1,\"D\" )\n",
        "cp.enqueue( 2,\"Y\" )\n",
        "cp.enqueue( 5,\"E\" )\n",
        "cp.to_string()"
      ],
      "execution_count": null,
      "outputs": [
        {
          "output_type": "stream",
          "name": "stdout",
          "text": [
            "2 =-= |A| <--|Y| <--\n",
            "4 =-= |Z| <--\n",
            "1 =-= |D| <--\n",
            "5 =-= |E| <--\n"
          ]
        }
      ]
    }
  ]
}