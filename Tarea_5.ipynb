{
  "nbformat": 4,
  "nbformat_minor": 0,
  "metadata": {
    "colab": {
      "name": "Tarea 5.ipynb",
      "provenance": [],
      "authorship_tag": "ABX9TyMi2rr+SF9GOMRVqw+aZW1t",
      "include_colab_link": true
    },
    "kernelspec": {
      "name": "python3",
      "display_name": "Python 3"
    },
    "language_info": {
      "name": "python"
    }
  },
  "cells": [
    {
      "cell_type": "markdown",
      "metadata": {
        "id": "view-in-github",
        "colab_type": "text"
      },
      "source": [
        "<a href=\"https://colab.research.google.com/github/Yuho12313/Clase1358FES/blob/main/Tarea_5.ipynb\" target=\"_parent\"><img src=\"https://colab.research.google.com/assets/colab-badge.svg\" alt=\"Open In Colab\"/></a>"
      ]
    },
    {
      "cell_type": "code",
      "metadata": {
        "id": "_i3IhqRSDnQX"
      },
      "source": [
        "#ADTArray2D\n",
        "#22/9-24/9\n",
        "#JCRS\n",
        "\n",
        "class Array2D( ):\n",
        "  def __init__( self, row, column ):\n",
        "    self.__row = row\n",
        "    self.__column = column\n",
        "    self.__data = [[0 for _ in range(row)] for _ in range(column)] #generador\n",
        "\n",
        "  def get_row_size( self, index):\n",
        "    return self.__data[index]\n",
        "\n",
        "  def get_column_size( self, index):\n",
        "    return self.__data[index]\n",
        "\n",
        "  def set_item(self, row, column, dato):\n",
        "    if self.__check_limit__(index):\n",
        "        self.__data[row][column] = dato, self\n",
        "\n",
        "    else:\n",
        "      raise Exception(\"Error de limites de index\")\n",
        "  \n",
        "  def get__item(self, row, column):\n",
        "      return self__data[row][column]\n",
        "\n",
        "  def get_Length(self):\n",
        "   return self.__row and self.__column\n",
        "\n",
        " \n",
        "    \n",
        "\n",
        "  def to_string(self):\n",
        "    print(self.__data)\n",
        "\n",
        "  def clear(self, data):\n",
        "    self.__data=[valor for x in range(self.__row)]"
      ],
      "execution_count": 109,
      "outputs": []
    }
  ]
}
