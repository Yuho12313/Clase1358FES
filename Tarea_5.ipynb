{
  "nbformat": 4,
  "nbformat_minor": 0,
  "metadata": {
    "colab": {
      "name": "Tarea 5.ipynb",
      "provenance": [],
      "authorship_tag": "ABX9TyMi2rr+SF9GOMRVqw+aZW1t",
      "include_colab_link": true
    },
    "kernelspec": {
      "name": "python3",
      "display_name": "Python 3"
    },
    "language_info": {
      "name": "python"
    }
  },
  "cells": [
    {
      "cell_type": "markdown",
      "metadata": {
        "id": "view-in-github",
        "colab_type": "text"
      },
      "source": [
        "<a href=\"https://colab.research.google.com/github/Yuho12313/Clase1358FES/blob/main/Tarea_5.ipynb\" target=\"_parent\"><img src=\"https://colab.research.google.com/assets/colab-badge.svg\" alt=\"Open In Colab\"/></a>"
      ]
    },
    {
      "cell_type": "code",
      "metadata": {
        "id": "_i3IhqRSDnQX"
      },
      "source": [
        "#ADTArray2D\n",
        "#22/9-24/9\n",
        "#JCRS\n",
        "\n",
        "class Array2D( ):\n",
        "  def __init__( self, row, column ):\n",
        "    self.__row = row\n",
        "    self.__column = column\n",
        "    self.__data = [[0 for _ in range(row)] for _ in range(column)] #generador\n",
        "\n",
        "  def get_row_size( self, index):\n",
        "    return self.__data[index]\n",
        "\n",
        "  def get_column_size( self, index):\n",
        "    return self.__data[index]\n",
        "\n",
        "  def set_item(self, row, column, dato):\n",
        "        self.__data[row][column] = dato\n",  
        "  \n",
        "  def get__item(self, row, column):\n",
        "      return self__data[row][column]\n",
        "\n",
        "  def to_string(self):\n",
        "    for i in range(self.__columnas)\n",
        "      print(self.__data[i])\n",
        "\n",
        "  def clear(self, data):\n",
        "    for i in range (self.__renglones):\n",
        "      for x in range(self.__columnas):\n",
        "        self.__data[i][x] = dato\n",
      ],
      "execution_count": 109,
      "outputs": []
    }
  ]
}
