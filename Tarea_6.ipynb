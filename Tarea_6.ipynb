{
  "nbformat": 4,
  "nbformat_minor": 0,
  "metadata": {
    "colab": {
      "name": "Tarea 5.1.ipynb",
      "provenance": [],
      "collapsed_sections": [],
      "authorship_tag": "ABX9TyOYTqbp+0afMVoBK0yEpqIr",
      "include_colab_link": true
    },
    "kernelspec": {
      "name": "python3",
      "display_name": "Python 3"
    },
    "language_info": {
      "name": "python"
    }
  },
  "cells": [
    {
      "cell_type": "markdown",
      "metadata": {
        "id": "view-in-github",
        "colab_type": "text"
      },
      "source": [
        "<a href=\"https://colab.research.google.com/github/Yuho12313/Clase1358FES/blob/main/Tarea_6.ipynb\" target=\"_parent\"><img src=\"https://colab.research.google.com/assets/colab-badge.svg\" alt=\"Open In Colab\"/></a>"
      ]
    },
    {
      "cell_type": "code",
      "metadata": {
        "id": "zdx5bVmB10N_"
      },
      "source": [
        "\n",
        "class Array2D():\n",
        "\n",
        "  def __init__(self, ren, col):\n",
        "    self.__columnas = col\n",
        "    self.__renglones = ren\n",
        "    self.__data = [[ 0 for i in range(col)]for i in range(ren)]\n",
        "\n",
        "  def to_string(self):  \n",
        "    for i in range(self.__renglones):\n",
        "      print(self.__data[i])\n",
        "\n",
        "  def clear(self, dato):\n",
        "    for i in range (self.__renglones):\n",
        "      for x in range(self.__columnas):\n",
        "        self.__data[i][x] = dato\n",
        "\n",
        "  def get_row_size(self):\n",
        "    return self.__renglones\n",
        "\n",
        "  def get_col_size(self):\n",
        "    return self.__columnas\n",
        "\n",
        "  def set_item(self,ren,col,dato):\n",
        "    self.__data[ren][col] = dato\n",
        "\n",
        "  def get_item(self,ren,col):\n",
        "    return self.__data[ren][col]\n"
      ],
      "execution_count": null,
      "outputs": []
    },
    {
      "cell_type": "code",
      "metadata": {
        "id": "LCt5cbyfG9aR"
      },
      "source": [
        "class JuegodeLaVidaADT:\n",
        "\n",
        "  def __init__(self, row, columns, poblacion_inical, No_de_generaciones ):#fase de inicio modo 0\n",
        "    self.tablero = Array2D(row, columns)\n",
        "    self.tablero2 = Array2D(row, columns)\n",
        "    self.generaciones = No_de_generaciones\n",
        "    self.gen = 1\n",
        "    self.tablero.clear(\"M\")\n",
        "\n",
        "    for par in poblacion_inical:\n",
        "      self.tablero.set_item( par[0], par[1] , \"V\" )\n",
        "\n",
        "  def to_string( self ):\n",
        "    \n",
        "    print(f\"--------GENERACION-- { self.gen }\")\n",
        "    self.tablero.to_string()\n",
        "      \n",
        "        #l analiza la cuadricula para no dar un error\n",
        "        #v\n",
        "\n",
        "  def get_vecinos( self, r, c):\n",
        "    vecinos = []\n",
        "\n",
        "    for ren in range( r-1, r+2, 1):\n",
        "      for col in range( c-1, c+2, 1):\n",
        "        if ren < 0 or ren >= self.tablero.get_row_size() or col < 0 or col >= self.tablero.get_col_size() or (ren==r and col==c):\n",
        "          pass\n",
        "        else:\n",
        "          vecinos.append(( ren, col))\n",
        "    return vecinos\n",
        "\n",
        "\n",
        "  def get_vecinos_vivos( self, row, cols):\n",
        "    vivos = 0\n",
        "    vecinos = self.get_vecinos( row, cols)\n",
        "    for par in vecinos:\n",
        "      if self.tablero.get_item( par[0], par[1] ) == \"V\":\n",
        "        vivos += 1\n",
        "    return vivos\n",
        "\n",
        "  def aplicar_reglas( self, row, columns):\n",
        "    self.tablero2.clear(\"M\")\n",
        "    tablerotempo = self.tablero2\n",
        "\n",
        "    r = row - 1\n",
        "    c = columns - 1\n",
        "\n",
        "    for i in range(c):\n",
        "      for x in range(r):\n",
        "        C = self.get_vecinos_vivos(x, i)\n",
        "\n",
        "        if C == 3 and self.tablero.get_item(x, i) == \"M\":\n",
        "          tablerotempo.set_item(x, i, \"V\")\n",
        "        if C == 1 and self.tablero.get_item(x, i) == \"V\":\n",
        "          tablerotempo.set_item(x, i, \"M\")\n",
        "        if C == 0 and self.tablero.get_item(x, i) == \"V\":\n",
        "          tablerotempo.set_item(x, i, \"M\")\n",
        "        if C == 4 and self.tablero.get_item(x, i) == \"V\":\n",
        "           tablerotempo.set_item(x, i, \"M\")\n",
        "        if C == 5 and self.tablero.get_item(x, i) == \"V\":\n",
        "          tablerotempo.set_item(x, i, \"M\")\n",
        "        if C == 6 and self.tablero.get_item(x, i) == \"V\":\n",
        "          tablerotempo.set_item(x, i, \"M\")\n",
        "        if C == 7 and self.tablero.get_item(x, i) == \"V\":\n",
        "          tablerotempo.set_item(x, i, \"M\")\n",
        "        if C == 8 and self.tablero.get_item(x, i) == \"M\":\n",
        "          tablerotempo.set_item(x, i, \"M\")\n",
        "        if C == 3 and self.tablero.get_item(x, i) == \"V\":\n",
        "          tablerotempo.set_item(x, i, \"V\")\n",
        "        if C == 2 and self.tablero.get_item(x, i) == \"V\":\n",
        "          tablerotempo.set_item(x, i, \"V\")\n",
        "    return tablerotempo.to_string()\n"
      ],
      "execution_count": null,
      "outputs": []
    },
    {
      "cell_type": "code",
      "metadata": {
        "colab": {
          "base_uri": "https://localhost:8080/"
        },
        "id": "vxX2nbCs2TnJ",
        "outputId": "1f880a10-3150-41b8-9e97-30f9933c7991"
      },
      "source": [
        "juego = JuegodeLaVidaADT( 5, 6, [ (2,2), (3,1), (3,2), (3,3) ], 5 )\n",
        "juego.to_string()\n",
        "print(\"\")\n",
        "juego.aplicar_reglas(6,5)\n",
        "\n"
      ],
      "execution_count": null,
      "outputs": [
        {
          "output_type": "stream",
          "name": "stdout",
          "text": [
            "--------GENERACION-- 1\n",
            "['M', 'M', 'M', 'M', 'M', 'M']\n",
            "['M', 'M', 'M', 'M', 'M', 'M']\n",
            "['M', 'M', 'V', 'M', 'M', 'M']\n",
            "['M', 'V', 'V', 'V', 'M', 'M']\n",
            "['M', 'M', 'M', 'M', 'M', 'M']\n",
            "\n",
            "['M', 'M', 'M', 'M', 'M', 'M']\n",
            "['M', 'M', 'M', 'M', 'M', 'M']\n",
            "['M', 'V', 'V', 'V', 'M', 'M']\n",
            "['M', 'V', 'V', 'V', 'M', 'M']\n",
            "['M', 'M', 'V', 'M', 'M', 'M']\n"
          ]
        }
      ]
    }
  ]
}