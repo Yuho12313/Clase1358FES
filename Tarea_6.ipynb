{
  "nbformat": 4,
  "nbformat_minor": 0,
  "metadata": {
    "colab": {
      "name": "Tarea 5.1.ipynb",
      "provenance": [],
      "authorship_tag": "ABX9TyPG0yMhl+VrXxsP0WOhi3sg",
      "include_colab_link": true
    },
    "kernelspec": {
      "name": "python3",
      "display_name": "Python 3"
    },
    "language_info": {
      "name": "python"
    }
  },
  "cells": [
    {
      "cell_type": "markdown",
      "metadata": {
        "id": "view-in-github",
        "colab_type": "text"
      },
      "source": [
        "<a href=\"https://colab.research.google.com/github/Yuho12313/Clase1358FES/blob/main/Tarea_6.ipynb\" target=\"_parent\"><img src=\"https://colab.research.google.com/assets/colab-badge.svg\" alt=\"Open In Colab\"/></a>"
      ]
    },
    {
      "cell_type": "code",
      "metadata": {
        "id": "zdx5bVmB10N_"
      },
      "source": [
        "\n",
        "class Array2D():\n",
        "\n",
        "  def __init__(self, ren, col):\n",
        "    self.__columnas = col\n",
        "    self.__renglones = ren\n",
        "    self.__data = [[ 0 for i in range(col)]for i in range(ren)]\n",
        "\n",
        "  def to_string(self):  \n",
        "    for i in range(self.__renglones):\n",
        "      print(self.__data[i])\n",
        "\n",
        "  def clear(self, dato):\n",
        "    for i in range (self.__renglones):\n",
        "      for x in range(self.__columnas):\n",
        "        self.__data[i][x] = dato\n",
        "\n",
        "  def get_row_size(self):\n",
        "    return self.__renglones\n",
        "\n",
        "  def get_col_size(self):\n",
        "    return self.__columnas\n",
        "\n",
        "  def set_item(self,ren,col,dato):\n",
        "    self.__data[ren][col] = dato\n",
        "\n",
        "  def get_item(self,ren,col):\n",
        "    return self.__data[ren][col]\n"
      ],
      "execution_count": null,
      "outputs": []
    },
    {
      "cell_type": "code",
      "metadata": {
        "id": "gmFogGgC9I3x"
      },
      "source": [
        "\n",
        "Lista = Array2D(6,5)\n",
        "\n",
        "Lista.to_string()\n",
        "Lista.clear(\"M\")\n",
        "print(\"Empieza el juego de la vida. Poblacion Inicial\")\n",
        "Lista.to_string()\n",
        "\n",
        "print(\"Generacion 1\")\n",
        "\n",
        "poblacion_inical = [(2,2),(3,1),(3,2),(3,3)]\n",
        "for par in poblacion_inical: #Usar tupla para condiciones iniciales\n",
        "  Lista.set_item(par[0],par[1],\"V\")\n",
        "\n",
        "Lista.to_string()"
      ],
      "execution_count": null,
      "outputs": []
    },
    {
      "cell_type": "code",
      "metadata": {
        "id": "LCt5cbyfG9aR"
      },
      "source": [
        "class JuegodeLaVidaADT:\n",
        "\n",
        "  def __init__(self, row, columns, poblacion_inical, No_de_generaciones ):#fase de inicio modo 0\n",
        "    self.tablero = Array2D(row, columns)\n",
        "    self.generaciones = No_de_generaciones\n",
        "    self.gen = 1\n",
        "    self.tablero.clear(\"M\")\n",
        "\n",
        "    for par in poblacion_inical:\n",
        "      self.tablero.set_item( par[0], par[1] , \"V\" )\n",
        "\n",
        "  def to_string( self ):\n",
        "    \n",
        "    print(f\"--------GENERACION-- { self.gen }\")\n",
        "    self.tablero.to_string()\n",
        "    \n",
        "  def get_vecinos( r, c):\n",
        "    vecinos = []\n",
        "    for ren in range( r-1, r+1, 1 ):\n",
        "      for col in range( c-1, c+1, 1 ):\n",
        "        if ren  \n",
        "\n",
        "\n",
        "\n",
        "  #def get_vecinos_vivos( self, row, cols):\n",
        "    #vivos = 0\n",
        "    \n",
        "\n",
        "    #return vivos\n"
      ],
      "execution_count": null,
      "outputs": []
    },
    {
      "cell_type": "code",
      "metadata": {
        "id": "ACqseG3HJXKo",
        "colab": {
          "base_uri": "https://localhost:8080/"
        },
        "outputId": "d7e3c5f2-2f81-4057-85c0-5523dd6a9c16"
      },
      "source": [
        "juego = JuegodeLaVidaADT( 5, 6, [ (2,2), (3,1), (3,2), (3,3) ], 5 )\n",
        "\n",
        "juego.to_string()\n",
        "\n"
      ],
      "execution_count": null,
      "outputs": [
        {
          "output_type": "stream",
          "name": "stdout",
          "text": [
            "--------GENERACION-- 1\n",
            "['M', 'M', 'M', 'M', 'M', 'M']\n",
            "['M', 'M', 'M', 'M', 'M', 'M']\n",
            "['M', 'M', 'V', 'M', 'M', 'M']\n",
            "['M', 'V', 'V', 'V', 'M', 'M']\n",
            "['M', 'M', 'M', 'M', 'M', 'M']\n"
          ]
        }
      ]
    }
  ]
}