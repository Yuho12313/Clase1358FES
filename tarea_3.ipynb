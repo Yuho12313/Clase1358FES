{
  "nbformat": 4,
  "nbformat_minor": 0,
  "metadata": {
    "colab": {
      "name": "tarea 3.ipynb",
      "provenance": [],
      "authorship_tag": "ABX9TyOPZXiJWx7A4LPmh3rsk8+H",
      "include_colab_link": true
    },
    "kernelspec": {
      "name": "python3",
      "display_name": "Python 3"
    },
    "language_info": {
      "name": "python"
    }
  },
  "cells": [
    {
      "cell_type": "markdown",
      "metadata": {
        "id": "view-in-github",
        "colab_type": "text"
      },
      "source": [
        "<a href=\"https://colab.research.google.com/github/Yuho12313/Clase1358FES/blob/main/tarea_3.ipynb\" target=\"_parent\"><img src=\"https://colab.research.google.com/assets/colab-badge.svg\" alt=\"Open In Colab\"/></a>"
      ]
    },
    {
      "cell_type": "code",
      "metadata": {
        "id": "GPCax8yfIPSe",
        "colab": {
          "base_uri": "https://localhost:8080/",
          "height": 129
        },
        "outputId": "adbf48f8-c6db-463e-fe11-663c5b0b792f"
      },
      "source": [
        "#Ejemplo 1\n",
        "#8/9\n",
        "#JCRS\n",
        "\n",
        "\n",
        "class Array( ):\n",
        "  def __init__( self, tamanio ):\n",
        "    self.__tamanio = tamanio\n",
        "    self.__data = [ 0 for x in range(self.__tamanio) ] #generador\n",
        "\n",
        "  def get_item( self, index):\n",
        "    return self.__data[index]\n",
        "\n",
        "  def to_string(self):\n",
        "    print(self.__data) \n",
        "\n",
        "  def settenm(self, index, dato):\n",
        "    self.__dato = dato\n",
        "    self.__data.insert(index,dato)\n",
        "\n",
        "  def get_Length(self)\n",
        "   return len(self.__data)\n",
        
        "\n",
        "  def clear(self):\n",
        "    return self.clear()\n",
        "    \n"
      ],
      "execution_count": 8,
      "outputs": [
        {
          
        }
      ]
    },
    {
      "cell_type": "code",
      "metadata": {
        "colab": {
          "base_uri": "https://localhost:8080/"
        },
        "id": "mziiIFupMNmV",
        "outputId": "b5b62597-4e86-483c-e60b-7d9f9ce5e39a"
      },
      "source": [
        "\n",
        "ejemplo = Array(5)\n",
        "ejemplo.to_string()\n",
        "ejemplo.get_item(3)"
      ],
      "execution_count": null,
      "outputs": [
        {
          "output_type": "stream",
          "name": "stdout",
          "text": [
            "[0, 0, 0, 0, 0]\n"
          ]
        },
        {
          "output_type": "execute_result",
          "data": {
            "text/plain": [
              "0"
            ]
          },
          "metadata": {},
          "execution_count": 4
        }
      ]
    }
  ]
}
