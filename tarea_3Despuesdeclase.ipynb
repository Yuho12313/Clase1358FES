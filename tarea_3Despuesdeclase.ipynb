{
  "nbformat": 4,
  "nbformat_minor": 0,
  "metadata": {
    "colab": {
      "name": "tarea 3.ipynb",
      "provenance": [],
      "include_colab_link": true
    },
    "kernelspec": {
      "name": "python3",
      "display_name": "Python 3"
    },
    "language_info": {
      "name": "python"
    }
  },
  "cells": [
    {
      "cell_type": "markdown",
      "metadata": {
        "id": "view-in-github",
        "colab_type": "text"
      },
      "source": [
        "<a href=\"https://colab.research.google.com/github/Yuho12313/Clase1358FES/blob/main/tarea_3Despuesdeclase.ipynb\" target=\"_parent\"><img src=\"https://colab.research.google.com/assets/colab-badge.svg\" alt=\"Open In Colab\"/></a>"
      ]
    },
    {
      "cell_type": "code",
      "metadata": {
        "id": "GPCax8yfIPSe"
      },
      "source": [
        "#Ejemplo 1\n",
        "#8/9\n",
        "#JCRS\n",
        "\n",
        "\n",
        "class Array( ):\n",
        "  def __init__( self, tamanio ):\n",
        "    self.__tamanio = tamanio\n",
        "    self.__data = [ 0 for x in range(self.__tamanio) ] #generador\n",
        "\n",
        "  def get_item( self, index):\n",
        "    return self.__data[index]\n",
        "\n",
        "  def to_string(self):\n",
        "    print(self.__data) \n",
        "\n",
        "  def set_item(self, index, dato):\n",
        "    if self.__check_limit__(index):\n",
        "        self.__data[index] = dato\n",
        "    else:\n",
        "      raise Exception(\"Error de limites de index\")\n",
        "  \n",
        "  def clear(self, data):\n",
        "    self.__data=[valor for x in range(self.__tamanio)]\n",
        "  \n",
        "  def get_Length(self):\n",
        "   return self.__tamanio\n",
        "\n",
        "  def __check_limit__(self, index):\n",
        "    return index >= 0 and index < self.__tamanio\n"
      ],
      "execution_count": 29,
      "outputs": []
    },
    {
      "cell_type": "code",
      "metadata": {
        "id": "aR0gjELrRJoh",
        "outputId": "eeeb6659-754a-4859-8283-090689600eeb",
        "colab": {
          "base_uri": "https://localhost:8080/"
        }
      },
      "source": [
        "lista = Array(10)\n",
        "\n",
        "lista.set_item( 0, 34)\n",
        "lista.set_item( 1, 19)\n",
        "lista.set_item( 2, 65)\n",
        "lista.set_item( 3, 100)\n",
        "lista.set_item( 4, 23)\n",
        "lista.set_item( 5, 43)\n",
        "lista.set_item( 6, 10)\n",
        "lista.set_item( 7, 20)\n",
        "lista.set_item( 8, 78)\n",
        "lista.set_item( 9, 89)\n",
        "\n",
        "for indice in range(lista.get_Length() ):\n",
        "  print(lista.get_item( indice ))\n",
        "\n"
      ],
      "execution_count": 30,
      "outputs": [
        {
          "output_type": "stream",
          "name": "stdout",
          "text": [
            "34\n",
            "19\n",
            "65\n",
            "100\n",
            "23\n",
            "43\n",
            "10\n",
            "20\n",
            "78\n",
            "89\n"
          ]
        }
      ]
    },
    {
      "cell_type": "code",
      "metadata": {
        "id": "7QuAQfUVWlYl",
        "outputId": "f69c3c85-2992-455a-b0fe-b8d0910597f1",
        "colab": {
          "base_uri": "https://localhost:8080/"
        }
      },
      "source": [
        "#Metodos de busqueda y ordenamiento\n",
        "\n",
        "valor_a_buscar = int (input(\"¿Que valor quieres buscar?\"))\n",
        "encontrado = False\n",
        "\n",
        "for indice in range( lista.get_Length()):\n",
        "  if valor_a_buscar == lista.get_item( indice ):\n",
        "    print(\"El elemento se encuentra en la posicion: \", indice)\n",
        "    encontrado = True\n",
        "    break\n",
        "\n",
        "if encontrado:\n",
        "  print(\"El elemento si exsite en el arreglo\")\n",
        "else:\n",
        "  print(\"El elemento no esta en el arreglo\")"
      ],
      "execution_count": 32,
      "outputs": [
        {
          "output_type": "stream",
          "name": "stdout",
          "text": [
            "¿Que valor quieres buscar?19\n",
            "El elemento se encuentra en la posicion:  1\n",
            "El elemento si exsite en el arreglo\n"
          ]
        }
      ]
    }
  ]
}